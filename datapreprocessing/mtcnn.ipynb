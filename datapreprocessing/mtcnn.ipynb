{
 "cells": [
  {
   "cell_type": "code",
   "execution_count": 1,
   "metadata": {},
   "outputs": [
    {
     "name": "stdout",
     "output_type": "stream",
     "text": [
      "Collecting facenet-pytorch\n",
      "  Downloading facenet_pytorch-2.5.3-py3-none-any.whl (1.9 MB)\n",
      "     ---------------------------------------- 1.9/1.9 MB 2.6 MB/s eta 0:00:00\n",
      "Requirement already satisfied: pillow in c:\\users\\videokyc\\.conda\\envs\\gpu\\lib\\site-packages (from facenet-pytorch) (9.2.0)\n",
      "Requirement already satisfied: torchvision in c:\\users\\videokyc\\.conda\\envs\\gpu\\lib\\site-packages (from facenet-pytorch) (0.14.0)\n",
      "Requirement already satisfied: numpy in c:\\users\\videokyc\\.conda\\envs\\gpu\\lib\\site-packages (from facenet-pytorch) (1.26.1)\n",
      "Requirement already satisfied: requests in c:\\users\\videokyc\\.conda\\envs\\gpu\\lib\\site-packages (from facenet-pytorch) (2.28.1)\n",
      "Requirement already satisfied: idna<4,>=2.5 in c:\\users\\videokyc\\.conda\\envs\\gpu\\lib\\site-packages (from requests->facenet-pytorch) (3.4)\n",
      "Requirement already satisfied: charset-normalizer<3,>=2 in c:\\users\\videokyc\\.conda\\envs\\gpu\\lib\\site-packages (from requests->facenet-pytorch) (2.0.4)\n",
      "Requirement already satisfied: urllib3<1.27,>=1.21.1 in c:\\users\\videokyc\\.conda\\envs\\gpu\\lib\\site-packages (from requests->facenet-pytorch) (1.26.12)\n",
      "Requirement already satisfied: certifi>=2017.4.17 in c:\\users\\videokyc\\.conda\\envs\\gpu\\lib\\site-packages (from requests->facenet-pytorch) (2022.12.7)\n",
      "Requirement already satisfied: typing_extensions in c:\\users\\videokyc\\.conda\\envs\\gpu\\lib\\site-packages (from torchvision->facenet-pytorch) (3.7.4.3)\n",
      "Requirement already satisfied: torch==1.13.0 in c:\\users\\videokyc\\.conda\\envs\\gpu\\lib\\site-packages (from torchvision->facenet-pytorch) (1.13.0)\n",
      "Installing collected packages: facenet-pytorch\n",
      "Successfully installed facenet-pytorch-2.5.3\n"
     ]
    },
    {
     "name": "stderr",
     "output_type": "stream",
     "text": [
      "WARNING: Ignoring invalid distribution -rotobuf (c:\\users\\videokyc\\appdata\\roaming\\python\\python39\\site-packages)\n",
      "WARNING: Ignoring invalid distribution -rotobuf (c:\\users\\videokyc\\appdata\\roaming\\python\\python39\\site-packages)\n",
      "WARNING: Ignoring invalid distribution -rotobuf (c:\\users\\videokyc\\appdata\\roaming\\python\\python39\\site-packages)\n",
      "WARNING: Ignoring invalid distribution -rotobuf (c:\\users\\videokyc\\appdata\\roaming\\python\\python39\\site-packages)\n",
      "WARNING: Ignoring invalid distribution -rotobuf (c:\\users\\videokyc\\appdata\\roaming\\python\\python39\\site-packages)\n",
      "WARNING: Ignoring invalid distribution -rotobuf (c:\\users\\videokyc\\appdata\\roaming\\python\\python39\\site-packages)\n"
     ]
    }
   ],
   "source": [
    "!pip install facenet-pytorch"
   ]
  },
  {
   "cell_type": "code",
   "execution_count": 2,
   "metadata": {},
   "outputs": [
    {
     "name": "stderr",
     "output_type": "stream",
     "text": [
      "c:\\Users\\VIDEOKYC\\.conda\\envs\\gpu\\lib\\site-packages\\tqdm\\auto.py:22: TqdmWarning: IProgress not found. Please update jupyter and ipywidgets. See https://ipywidgets.readthedocs.io/en/stable/user_install.html\n",
      "  from .autonotebook import tqdm as notebook_tqdm\n"
     ]
    }
   ],
   "source": [
    "from facenet_pytorch import MTCNN\n",
    "from PIL import Image\n",
    "import torch\n",
    "import os\n",
    "import glob\n"
   ]
  },
  {
   "cell_type": "code",
   "execution_count": 3,
   "metadata": {},
   "outputs": [],
   "source": [
    "# Initialize MTCNN\n",
    "device = torch.device('cuda:0' if torch.cuda.is_available() else 'cpu')\n",
    "mtcnn = MTCNN(keep_all=True, device=device)\n"
   ]
  },
  {
   "cell_type": "code",
   "execution_count": 4,
   "metadata": {},
   "outputs": [
    {
     "name": "stdout",
     "output_type": "stream",
     "text": [
      "c:\\Quality_Metric\\Face\\datapreprocessing\n"
     ]
    }
   ],
   "source": [
    "!cd"
   ]
  },
  {
   "cell_type": "code",
   "execution_count": 6,
   "metadata": {},
   "outputs": [],
   "source": [
    "\n",
    "def crop_faces(dataset_path, output_path):\n",
    "    if not os.path.exists(output_path):\n",
    "        os.makedirs(output_path)\n",
    "    \n",
    "    for image_path in glob.glob(os.path.join(dataset_path, '*.jpg')):  # Update the file extension if needed\n",
    "        image = Image.open(image_path)\n",
    "        image = image.convert('RGB')  # Ensure image is in RGB format\n",
    "        \n",
    "        # Detect faces\n",
    "        boxes, _ = mtcnn.detect(image)\n",
    "        \n",
    "        if boxes is not None:\n",
    "            for i, box in enumerate(boxes):\n",
    "                # Crop face\n",
    "                cropped_image = image.crop(box)\n",
    "                # Save cropped face\n",
    "                cropped_image.save(os.path.join(output_path, f'{os.path.basename(image_path).split(\".\")[0]}_face_{i}.jpg'))\n"
   ]
  },
  {
   "cell_type": "code",
   "execution_count": null,
   "metadata": {},
   "outputs": [],
   "source": [
    "\n",
    "# Example Usage\n",
    "crop_faces('../AgeDB/', '../CroppedFace/')\n"
   ]
  },
  {
   "cell_type": "code",
   "execution_count": null,
   "metadata": {},
   "outputs": [],
   "source": []
  }
 ],
 "metadata": {
  "kernelspec": {
   "display_name": "gpu",
   "language": "python",
   "name": "python3"
  },
  "language_info": {
   "codemirror_mode": {
    "name": "ipython",
    "version": 3
   },
   "file_extension": ".py",
   "mimetype": "text/x-python",
   "name": "python",
   "nbconvert_exporter": "python",
   "pygments_lexer": "ipython3",
   "version": "3.9.12"
  }
 },
 "nbformat": 4,
 "nbformat_minor": 2
}
